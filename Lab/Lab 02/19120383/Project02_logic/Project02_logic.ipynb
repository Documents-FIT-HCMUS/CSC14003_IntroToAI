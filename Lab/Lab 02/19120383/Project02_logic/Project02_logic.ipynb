{
 "cells": [
  {
   "cell_type": "markdown",
   "metadata": {},
   "source": [
    "## Đồ án 02: Logic\n",
    "\n",
    "- Họ tên: Huỳnh Tấn Thọ\n",
    "- MSSV: 19120383"
   ]
  },
  {
   "cell_type": "markdown",
   "metadata": {
    "deletable": false,
    "editable": false,
    "nbgrader": {
     "cell_type": "markdown",
     "checksum": "d23cea8358be3c2933239e0092db115d",
     "grade": false,
     "grade_id": "Instruction_general",
     "locked": true,
     "schema_version": 3,
     "solution": false,
     "task": false
    }
   },
   "source": [
    "<font color='red'>**LƯU Ý:**</font>\n",
    "\n",
    "- Bài làm của sinh viên phải do chính bản thân sinh viên tự làm, có thể trao đổi và tham khảo ý tưởng nhưng không được sao chép (một phần hoặc toàn bộ) code hoặc lời giải từ bất cứ người nào khác. Nếu vi phạm sẽ bị <font color='red'>0đ</font> bài tập này.\n",
    "- Các bạn có thể tạo thêm các cell trong quá trình code, tuy nhiên các bạn vui lòng <font color='red'>không xóa các cell code mặc định và các cell test case</font> (vì có thể ảnh hưởng đến kết quả khi chấm bài).\n",
    "- Các test case được đưa ra chỉ nhằm mục đích giúp các bạn test code của mình, việc pass các test case này không đồng nghĩa với việc lời giải của các bạn sẽ đạt điểm tối đa. \n",
    "\n",
    "**Cách nộp bài**\n",
    "\n",
    "Khi chấm bài, đầu tiên mình sẽ chọn `Kernel` - `Restart Kernel & Run All Cells`, để restart và chạy tất cả các cell trong notebook của các bạn; do đó, trước khi nộp bài, các bạn nên chạy thử `Kernel` - `Restart Kernel & Run All Cells` để đảm bảo mọi chuyện diễn ra đúng như mong đợi.\n",
    "\n",
    "Sau đó, các bạn tạo thư mục nộp bài theo cấu trúc sau:\n",
    "\n",
    "- Thư mục `MSSV` (vd, nếu bạn có MSSV là 1234567 thì bạn đặt tên thư mục là `1234567`)\n",
    "    - Thư mục `Project02_logic`\n",
    "        - File `Project02_logic.ipynb` \n",
    "        - Folder `models` và file `logic.py` đính kèm theo đề \n",
    "        - Thư mục chứa bài làm câu 4 đặt tên là `PS4`, gồm:\n",
    "            - `SRC`: thư mục chứa mã nguồn\n",
    "            - `REPORT`: thư mục chứa báo cáo (file .pdf)\n",
    "\n",
    "Cuối cùng, các bạn nén thư mục `MSSV` này lại và nộp ở link trên moodle. **Đuôi của file nén phải là .zip (chứ không được .rar hay gì khác).**\n",
    "\n",
    "<font color=red>Các bạn lưu ý tuân thủ chính xác qui định nộp bài ở trên.</font>\n",
    "\n",
    "\n",
    "- Mọi thắc mắc trong quá trình làm bài, các bạn có thể gửi mail đến trợ giảng: Lê Thanh Phong (windy.professor@gmail.com)\n",
    "\n",
    "\n",
    "\n",
    "<center><font color='green'>CHÚC CÁC BẠN HOÀN THÀNH THẬT TỐT ĐỒ ÁN!</font></center>"
   ]
  },
  {
   "cell_type": "markdown",
   "metadata": {
    "deletable": false,
    "editable": false,
    "nbgrader": {
     "cell_type": "markdown",
     "checksum": "b3515bac92a91d118fca6c62c2011c05",
     "grade": false,
     "grade_id": "Instruction_notation",
     "locked": true,
     "schema_version": 3,
     "solution": false,
     "task": false
    }
   },
   "source": [
    "## Hướng dẫn làm bài: \n",
    "\n",
    "Đồ án này hướng đến việc giúp các bạn thực hành và kiểm tra kiến thức chương Logic trong môn học Nhập môn Trí tuệ Nhân tạo. \n",
    "\n",
    "Nội dung của đồ án này bao gồm:\n",
    "\n",
    "- Logic mệnh đề và hợp giải trên logic mệnh đề \n",
    "- Logic vị từ \n",
    "\n",
    "Với các câu hỏi 1-3, các bạn sẽ làm bài trực tiếp trên notebook này. Các bạn cần hoàn thành notebook bằng cách điền lời giải của mình sau các dòng ```# YOUR CODE HERE```. Các bạn sẽ cần sử dụng code để biểu diễn các ký hiệu trong logic theo cú pháp trong bảng sau: \n",
    "\n",
    "<center>\n",
    "    \n",
    "|  | Biểu diễn bằng ký hiệu toán học | Cú pháp code sử dụng | \n",
    "|:---|:----:|---|\n",
    "| Ký hiệu hằng số (constant symbol) | hcmus | ```Constant('hcmus')``` (ghi thường) | \n",
    "| Ký hiệu biến (variable symbol) | $x$ | ```Variable('$x')``` (ghi thường) | \n",
    "| Câu nguyên tố (atomic formula) | Rain, LocatedIn(hcmus, $x$) | ```Atom('Rain')```, ```Atom('LocatedIn', 'hcmus', '$x')``` <br> (Kí hiệu vị từ ghi hoa, đối số ghi thường) |\n",
    "| Phép phủ định (negation) | $\\neg$ Rain | ```Not(Atom('Rain'))```|\n",
    "| Phép và (conjunction)| Rain $\\land$ Snow | ```And(Atom('Rain'), Atom('Snow'))```|\n",
    "| Phép hoặc (disjunction) | Rain $\\lor$ Snow | ```Or(Atom('Rain'), Atom('Snow'))```|\n",
    "| Phép kéo theo (implication) | Rain $\\Rightarrow$ Wet | ```Implies(Atom('Rain'), Atom('Wet'))```|\n",
    "| Phép tương đương (equivalence) | Rain $\\Leftrightarrow$ Wet | ```Equiv(Atom('Rain'), Atom('Wet'))```|\n",
    "| Lượng từ tồn tại (existential quantification) | $\\exists x$ LocatedIn(hcmus,$x$) | ```Exists('$x', Atom('LocatedIn', 'hcmus', '$x'))```|\n",
    "| Lượng từ với mọi (universal quantification) | $\\forall x$ MadeOfAtoms($x$) | ```Forall('$x', Atom('MadeOfAtoms', '$x'))```|    \n",
    "| Phép và với nhiều đối số <br>(tương tự với phép hoặc)| A $\\land$ B $\\land$ C | ```AndList([Atom('A'), Atom('B'), Atom('C')]) ```|\n",
    "  \n",
    "    \n",
    "</center>"
   ]
  },
  {
   "cell_type": "code",
   "execution_count": 1,
   "metadata": {
    "deletable": false,
    "editable": false,
    "nbgrader": {
     "cell_type": "code",
     "checksum": "c707489fd19fa15ab92870230e2c32d1",
     "grade": false,
     "grade_id": "Grading",
     "locked": true,
     "schema_version": 3,
     "solution": false,
     "task": false
    }
   },
   "outputs": [],
   "source": [
    "# util function for testing your code, DO NOT modify!!!\n",
    "\n",
    "import pickle, gzip, os, random\n",
    "import sys\n",
    "import os\n",
    "import collections\n",
    "\n",
    "from logic import *\n",
    "from typing import Tuple, List\n",
    "\n",
    "def checkFormula(name, predForm, preconditionForm=None):\n",
    "    filename = os.path.join('models', name + '.pklz')\n",
    "    objects, targetModels = pickle.load(gzip.open(filename)) \n",
    "    \n",
    "    # If preconditionion exists, change the formula to\n",
    "    preconditionPredForm = And(preconditionForm, predForm) if preconditionForm else predForm\n",
    "    predModels = performModelChecking([preconditionPredForm], findAll=True, objects=objects)\n",
    "    ok = True\n",
    "    \n",
    "    def hashkey(model): return tuple(sorted(str(atom) for atom in model))\n",
    "    targetModelSet = set(hashkey(model) for model in targetModels)\n",
    "    predModelSet = set(hashkey(model) for model in predModels)\n",
    "    for model in targetModels:\n",
    "        if hashkey(model) not in predModelSet:\n",
    "            print(\"Your formula (%s) says the following model is FALSE, but it should be TRUE:\" % predForm)\n",
    "            ok = False\n",
    "            printModel(model)\n",
    "            return\n",
    "    for model in predModels:\n",
    "        if hashkey(model) not in targetModelSet:\n",
    "            print(\"Your formula (%s) says the following model is TRUE, but it should be FALSE:\" % predForm)\n",
    "            ok = False\n",
    "            printModel(model)\n",
    "            return\n",
    "        \n",
    "    print(f\"You matched the {len(targetModels)} models\")\n",
    "    print(f\"Example model: {rstr(random.choice(targetModels))}\")\n",
    "    return True\n"
   ]
  },
  {
   "cell_type": "code",
   "execution_count": 2,
   "metadata": {},
   "outputs": [],
   "source": [
    "# import other modules if you need them \n"
   ]
  },
  {
   "cell_type": "markdown",
   "metadata": {
    "deletable": false,
    "editable": false,
    "nbgrader": {
     "cell_type": "markdown",
     "checksum": "804aa58ae3ce0045ab0bfe895a51a09d",
     "grade": false,
     "grade_id": "PS1",
     "locked": true,
     "schema_version": 3,
     "solution": false,
     "task": false
    }
   },
   "source": [
    "## Câu 1: Logic mệnh đề (0.75đ)\n",
    "\n",
    "Chuyển các câu dưới đây từ ngôn ngữ tự nhiên thành công thức logic mệnh đề.\n",
    "\n",
    "Ví dụ, với câu: \"Nếu trời mưa thì đường trơn\" thì cách viết sẽ là:\n",
    "\n",
    "```\n",
    "def rainWet():\n",
    "    Rain = Atom('Rain') # Trời mưa\n",
    "    Wet = Atom('Wet') # Đường trơn\n",
    "    return Implies(Rain, Wet)\n",
    "```"
   ]
  },
  {
   "cell_type": "markdown",
   "metadata": {
    "deletable": false,
    "editable": false,
    "nbgrader": {
     "cell_type": "markdown",
     "checksum": "fff775d48d26d048a0046d299e80327d",
     "grade": false,
     "grade_id": "1a",
     "locked": true,
     "schema_version": 3,
     "solution": false,
     "task": false
    }
   },
   "source": [
    "\n",
    "**1a) Nếu hiện tại là mùa hè và chúng tôi đang ở California, thì trời không mưa**"
   ]
  },
  {
   "cell_type": "code",
   "execution_count": 3,
   "metadata": {
    "deletable": false,
    "nbgrader": {
     "cell_type": "code",
     "checksum": "341f0fcc7089dfa4be5c2ac28f177e05",
     "grade": false,
     "grade_id": "TODO_1a",
     "locked": false,
     "schema_version": 3,
     "solution": true,
     "task": false
    }
   },
   "outputs": [],
   "source": [
    "def formula1a() -> Formula:\n",
    "    # Predicates to use:\n",
    "    Summer = Atom('Summer')               # whether it's summer\n",
    "    California = Atom('California')       # whether we're in California\n",
    "    Rain = Atom('Rain')                   # whether it's raining\n",
    "    \n",
    "    # YOUR CODE HERE\n",
    "    conditions = And(Summer, California)\n",
    "    results = Not(Rain)\n",
    "    return Implies(conditions, results)"
   ]
  },
  {
   "cell_type": "code",
   "execution_count": 4,
   "metadata": {
    "deletable": false,
    "editable": false,
    "nbgrader": {
     "cell_type": "code",
     "checksum": "4311711d7df425b84cf069751f5a53b3",
     "grade": true,
     "grade_id": "GRADE_1a",
     "locked": true,
     "points": 0.25,
     "schema_version": 3,
     "solution": false,
     "task": false
    }
   },
   "outputs": [
    {
     "name": "stdout",
     "output_type": "stream",
     "text": [
      "You matched the 7 models\n",
      "Example model: {'Rain', 'Summer'}\n"
     ]
    }
   ],
   "source": [
    "assert checkFormula('1a', formula1a()) == True"
   ]
  },
  {
   "cell_type": "markdown",
   "metadata": {
    "deletable": false,
    "editable": false,
    "nbgrader": {
     "cell_type": "markdown",
     "checksum": "6bdc62f0741bf7a4d8adeefb31ac633a",
     "grade": false,
     "grade_id": "1b",
     "locked": true,
     "schema_version": 3,
     "solution": false,
     "task": false
    }
   },
   "source": [
    "**1b) Đường trơn khi và chỉ khi trời mưa hoặc vòi phun nước đang mở**"
   ]
  },
  {
   "cell_type": "code",
   "execution_count": 5,
   "metadata": {
    "deletable": false,
    "nbgrader": {
     "cell_type": "code",
     "checksum": "ca647913af511b7c358f04f498f9e40e",
     "grade": false,
     "grade_id": "TODO_1b",
     "locked": false,
     "schema_version": 3,
     "solution": true,
     "task": false
    }
   },
   "outputs": [],
   "source": [
    "def formula1b() -> Formula:\n",
    "    # Predicates to use:\n",
    "    Rain = Atom('Rain')              # whether it is raining\n",
    "    Wet = Atom('Wet')                # whether it it wet\n",
    "    Sprinklers = Atom('Sprinklers')  # whether the sprinklers are on\n",
    "    \n",
    "    # YOUR CODE HERE\n",
    "    left = Wet\n",
    "    right = Or(Rain, Sprinklers)\n",
    "    return Equiv(left, right)"
   ]
  },
  {
   "cell_type": "code",
   "execution_count": 6,
   "metadata": {
    "deletable": false,
    "editable": false,
    "nbgrader": {
     "cell_type": "code",
     "checksum": "b1cffbb8239b90dbdce5a7f3552016ea",
     "grade": true,
     "grade_id": "GRADE_1b",
     "locked": true,
     "points": 0.25,
     "schema_version": 3,
     "solution": false,
     "task": false
    }
   },
   "outputs": [
    {
     "name": "stdout",
     "output_type": "stream",
     "text": [
      "You matched the 4 models\n",
      "Example model: {'Sprinklers', 'Rain', 'Wet'}\n"
     ]
    }
   ],
   "source": [
    "assert checkFormula('1b', formula1b()) == True"
   ]
  },
  {
   "cell_type": "markdown",
   "metadata": {
    "deletable": false,
    "editable": false,
    "nbgrader": {
     "cell_type": "markdown",
     "checksum": "452e5862978da9157cb2c728b3eea70b",
     "grade": false,
     "grade_id": "1c",
     "locked": true,
     "schema_version": 3,
     "solution": false,
     "task": false
    }
   },
   "source": [
    "**1c) Hoặc là ngày hoặc là đêm (nhưng không đồng thời là hai trường hợp trên)**"
   ]
  },
  {
   "cell_type": "code",
   "execution_count": 7,
   "metadata": {
    "deletable": false,
    "nbgrader": {
     "cell_type": "code",
     "checksum": "f583d7154c33bcf32eb914f84a5cc6e1",
     "grade": false,
     "grade_id": "TODO_1c",
     "locked": false,
     "schema_version": 3,
     "solution": true,
     "task": false
    }
   },
   "outputs": [],
   "source": [
    "def formula1c() -> Formula:\n",
    "    # Predicates to use:\n",
    "    Day = Atom('Day')     # whether it's day\n",
    "    Night = Atom('Night') # whether it's night\n",
    "    \n",
    "    # YOUR CODE HERE\n",
    "    OnlyDay = And(Day, Not(Night))\n",
    "    OnlyNight = And(Not(Day), Night)\n",
    "    return Or(OnlyDay, OnlyNight)"
   ]
  },
  {
   "cell_type": "code",
   "execution_count": 8,
   "metadata": {
    "deletable": false,
    "editable": false,
    "nbgrader": {
     "cell_type": "code",
     "checksum": "3bf6adfb29c3b72dde0144f53ba6f9cb",
     "grade": true,
     "grade_id": "GRADE_1c",
     "locked": true,
     "points": 0.25,
     "schema_version": 3,
     "solution": false,
     "task": false
    }
   },
   "outputs": [
    {
     "name": "stdout",
     "output_type": "stream",
     "text": [
      "You matched the 2 models\n",
      "Example model: {'Day'}\n"
     ]
    }
   ],
   "source": [
    "assert checkFormula('1c', formula1c()) == True"
   ]
  },
  {
   "cell_type": "markdown",
   "metadata": {
    "deletable": false,
    "editable": false,
    "nbgrader": {
     "cell_type": "markdown",
     "checksum": "1fe5d01ed5b03b7e72688737e515bdd4",
     "grade": false,
     "grade_id": "PS2",
     "locked": true,
     "schema_version": 3,
     "solution": false,
     "task": false
    }
   },
   "source": [
    "## Câu 2: Logic vị từ (2đ)\n",
    "\n",
    "Chuyển các câu dưới đây từ ngôn ngữ tự nhiên thành công thức logic vị từ.\n",
    "\n",
    "Ví dụ, với câu: \"Tồn tại một nguồn sáng phát sáng\"\n",
    "\n",
    "```\n",
    "def lightShines():\n",
    "    def Light(x): return Atom('Light', x)    # x là nguồn sáng\n",
    "    def Shines(x): return Atom('Shines', x)  # x phát sáng\n",
    "    return Exists('$x', And(Light('$x'), Shines('$x')))\n",
    "```"
   ]
  },
  {
   "cell_type": "markdown",
   "metadata": {
    "deletable": false,
    "editable": false,
    "nbgrader": {
     "cell_type": "markdown",
     "checksum": "18642dd2629e33d648457278aa30d33d",
     "grade": false,
     "grade_id": "2a",
     "locked": true,
     "schema_version": 3,
     "solution": false,
     "task": false
    }
   },
   "source": [
    "**2a) Mọi người đều có mẹ**"
   ]
  },
  {
   "cell_type": "code",
   "execution_count": 9,
   "metadata": {
    "deletable": false,
    "nbgrader": {
     "cell_type": "code",
     "checksum": "7451f6d57e671ca4c4293f2e3d1e194c",
     "grade": false,
     "grade_id": "TODO_2a",
     "locked": false,
     "schema_version": 3,
     "solution": true,
     "task": false
    }
   },
   "outputs": [],
   "source": [
    "def formula2a() -> Formula:\n",
    "    # Predicates to use:\n",
    "    def Person(x): return Atom('Person', x)        # whether x is a person\n",
    "    def Mother(x, y): return Atom('Mother', x, y)  # whether x's mother is y\n",
    "\n",
    "    # Note: You do NOT have to enforce that the mother is a \"person\"\n",
    "    # YOUR CODE HERE\n",
    "    return Forall('$x', Implies(Person('$x'), Exists('$y', Mother('$x', '$y'))))"
   ]
  },
  {
   "cell_type": "code",
   "execution_count": 10,
   "metadata": {
    "deletable": false,
    "editable": false,
    "nbgrader": {
     "cell_type": "code",
     "checksum": "adc7e86e7be8436cf8c4066098a41ce8",
     "grade": true,
     "grade_id": "GRADE_2a",
     "locked": true,
     "points": 0.5,
     "schema_version": 3,
     "solution": false,
     "task": false
    }
   },
   "outputs": [
    {
     "name": "stdout",
     "output_type": "stream",
     "text": [
      "You matched the 343 models\n",
      "Example model: {'Mother(o1,o3)', 'Mother(o2,o3)', 'Person(o3)', 'Mother(o1,o2)', 'Person(o1)', 'Mother(o3,o2)'}\n"
     ]
    }
   ],
   "source": [
    "formula2a_precondition = AntiReflexive('Mother')\n",
    "assert checkFormula('2a', formula2a(), formula2a_precondition) == True"
   ]
  },
  {
   "cell_type": "markdown",
   "metadata": {
    "deletable": false,
    "editable": false,
    "nbgrader": {
     "cell_type": "markdown",
     "checksum": "57f5a4b14426c5cdaf1d7d24822add74",
     "grade": false,
     "grade_id": "2b",
     "locked": true,
     "schema_version": 3,
     "solution": false,
     "task": false
    }
   },
   "source": [
    "**2b) Ít nhất một người không có con cái**"
   ]
  },
  {
   "cell_type": "code",
   "execution_count": 11,
   "metadata": {
    "deletable": false,
    "nbgrader": {
     "cell_type": "code",
     "checksum": "3dc7608b1d6412a46021be2e4f394289",
     "grade": false,
     "grade_id": "TODO_2b",
     "locked": false,
     "schema_version": 3,
     "solution": true,
     "task": false
    }
   },
   "outputs": [],
   "source": [
    "def formula2b() -> Formula:\n",
    "    # Predicates to use:\n",
    "    def Person(x): return Atom('Person', x)        # whether x is a person\n",
    "    def Child(x, y): return Atom('Child', x, y)    # whether x has a child y\n",
    "\n",
    "    # Note: You do NOT have to enforce that the child is a \"person\"\n",
    "    # YOUR CODE HERE\n",
    "    return Exists('$x', And(Person('$x'), Not(Exists('$y', Child('$x', '$y')))))"
   ]
  },
  {
   "cell_type": "code",
   "execution_count": 12,
   "metadata": {
    "deletable": false,
    "editable": false,
    "nbgrader": {
     "cell_type": "code",
     "checksum": "9e849710524293f2620ea5c21102fb00",
     "grade": true,
     "grade_id": "GRADE_2b",
     "locked": true,
     "points": 0.5,
     "schema_version": 3,
     "solution": false,
     "task": false
    }
   },
   "outputs": [
    {
     "name": "stdout",
     "output_type": "stream",
     "text": [
      "You matched the 169 models\n",
      "Example model: {'Person(o2)', 'Child(o3,o2)', 'Person(o1)'}\n"
     ]
    }
   ],
   "source": [
    "formula2b_precondition = AntiReflexive('Child')\n",
    "assert checkFormula('2b', formula2b(), formula2b_precondition) == True"
   ]
  },
  {
   "cell_type": "markdown",
   "metadata": {
    "deletable": false,
    "editable": false,
    "nbgrader": {
     "cell_type": "markdown",
     "checksum": "b28327140fa723d5ca78c16e65defa4a",
     "grade": false,
     "grade_id": "2c",
     "locked": true,
     "schema_version": 3,
     "solution": false,
     "task": false
    }
   },
   "source": [
    "**2c) Viết công thức định nghĩa Daughter (con gái) theo Female (nữ) và Child (con)**"
   ]
  },
  {
   "cell_type": "markdown",
   "metadata": {
    "deletable": false,
    "editable": false,
    "nbgrader": {
     "cell_type": "markdown",
     "checksum": "4e2fa63ec9cfa6e436de42adefcfce17",
     "grade": false,
     "grade_id": "example2c2d",
     "locked": true,
     "schema_version": 3,
     "solution": false,
     "task": false
    }
   },
   "source": [
    "Ví dụ về dạng 2c và 2d:\n",
    "\n",
    "```\n",
    "# Định nghĩa Parent theo Child\n",
    "def parentChild():\n",
    "    def Parent(x, y): return Atom('Parent', x, y)  # whether x has a parent y\n",
    "    def Child(x, y): return Atom('Child', x, y)    # whether x has a child y\n",
    "    return Forall('$x', Forall('$y', Equiv(Parent('$x', '$y'), Child('$y', '$x'))))\n",
    "    \n",
    "```"
   ]
  },
  {
   "cell_type": "code",
   "execution_count": 13,
   "metadata": {
    "deletable": false,
    "nbgrader": {
     "cell_type": "code",
     "checksum": "c859bfe231a29b4f6883679e7fad9678",
     "grade": false,
     "grade_id": "TODO_2c",
     "locked": false,
     "schema_version": 3,
     "solution": true,
     "task": false
    }
   },
   "outputs": [],
   "source": [
    "def formula2c() -> Formula:\n",
    "    # Predicates to use:\n",
    "    def Female(x): return Atom('Female', x)            # whether x is female\n",
    "    def Child(x, y): return Atom('Child', x, y)        # whether x has a child y\n",
    "    def Daughter(x, y): return Atom('Daughter', x, y)  # whether x has a daughter y\n",
    "    \n",
    "    # YOUR CODE HERE\n",
    "    return Forall('$x', Forall('$y', Equiv(Daughter('$x', '$y'), And(Female('$y'), Child('$x', '$y')))))"
   ]
  },
  {
   "cell_type": "code",
   "execution_count": 14,
   "metadata": {
    "deletable": false,
    "editable": false,
    "nbgrader": {
     "cell_type": "code",
     "checksum": "2d4c21dd318cf78ac21a08ca7a9a4eec",
     "grade": true,
     "grade_id": "GRADE_2c",
     "locked": true,
     "points": 0.5,
     "schema_version": 3,
     "solution": false,
     "task": false
    }
   },
   "outputs": [
    {
     "name": "stdout",
     "output_type": "stream",
     "text": [
      "You matched the 512 models\n",
      "Example model: {'Child(o3,o2)', 'Child(o1,o2)', 'Female(o1)', 'Child(o1,o3)'}\n"
     ]
    }
   ],
   "source": [
    "formula2c_precondition = AntiReflexive('Child')\n",
    "assert checkFormula('2c', formula2c(), formula2c_precondition) == True"
   ]
  },
  {
   "cell_type": "markdown",
   "metadata": {},
   "source": [
    "**2d) Viết công thức định nghĩa Grandmother (bà) theo Female (nữ) và Parent (phụ huynh)**"
   ]
  },
  {
   "cell_type": "code",
   "execution_count": 15,
   "metadata": {
    "deletable": false,
    "nbgrader": {
     "cell_type": "code",
     "checksum": "916d494d505771f7b7b067ad71b9db24",
     "grade": false,
     "grade_id": "TODO_2d",
     "locked": false,
     "schema_version": 3,
     "solution": true,
     "task": false
    }
   },
   "outputs": [],
   "source": [
    "# Note: It is ok for a person to be her own parent\n",
    "def formula2d() -> Formula:\n",
    "    # Predicates to use:\n",
    "    def Female(x): return Atom('Female', x)                  # whether x is female\n",
    "    def Parent(x, y): return Atom('Parent', x, y)            # whether x has a parent y\n",
    "    def Grandmother(x, y): return Atom('Grandmother', x, y)  # whether x has a grandmother y\n",
    "    \n",
    "    # YOUR CODE HERE\n",
    "    return Forall('$x', Forall('$z', Equiv(Grandmother('$x', '$z'), \n",
    "    And(Female('$z'), Exists('$y', And(Parent('$x', '$y'), Parent('$y', '$z')))))))"
   ]
  },
  {
   "cell_type": "code",
   "execution_count": 16,
   "metadata": {
    "deletable": false,
    "editable": false,
    "nbgrader": {
     "cell_type": "code",
     "checksum": "b2887dc2da0c2e45d722694fea3103e9",
     "grade": true,
     "grade_id": "GRADE_2d",
     "locked": true,
     "points": 0.5,
     "schema_version": 3,
     "solution": false,
     "task": false
    }
   },
   "outputs": [
    {
     "name": "stdout",
     "output_type": "stream",
     "text": [
      "You matched the 512 models\n",
      "Example model: {'Parent(o1,o2)', 'Parent(o1,o3)', 'Parent(o2,o1)', 'Grandmother(o2,o2)', 'Grandmother(o1,o1)', 'Parent(o3,o2)', 'Grandmother(o1,o2)', 'Parent(o3,o1)', 'Female(o2)', 'Parent(o2,o3)', 'Grandmother(o3,o1)', 'Grandmother(o3,o2)', 'Female(o1)', 'Grandmother(o2,o1)'}\n"
     ]
    }
   ],
   "source": [
    "formula2d_precondition = AntiReflexive('Parent')\n",
    "assert checkFormula('2d', formula2d(), formula2d_precondition) == True"
   ]
  },
  {
   "cell_type": "markdown",
   "metadata": {
    "deletable": false,
    "editable": false,
    "nbgrader": {
     "cell_type": "markdown",
     "checksum": "e5f9fe3a9fa715720bdbeb41281f551d",
     "grade": false,
     "grade_id": "PS3",
     "locked": true,
     "schema_version": 3,
     "solution": false,
     "task": false
    }
   },
   "source": [
    "## Câu 3: Logic vị từ - Ai là người nói dối? (2.25đ)\n",
    "\n",
    "Trong bài tập này, ta sẽ vận dụng logic vị từ để giải bài toán sau đây:\n",
    "\n",
    "Một nhân viên nào đó ở Facebook đã gây ra lỗi nghiêm trọng làm sập server, và mọi người đang bàn tán xem ai là người gây ra sự cố này. Sau một hồi điều tra, người ta đã xác định được 4 nghi phạm: John, Susan, Mark, Nicole. \n",
    "\n",
    "Ta có các thông tin sau:\n",
    "\n",
    "- John khai rằng: \"Tôi không phải là người làm sập server!\"\n",
    "- Susan nói: \"Thủ phạm chính là Nicole\"\n",
    "- Mark nói: \"Không đâu, Susan làm sập server đó!\"\n",
    "- Nicole khai rằng: \"Susan nói dối đó, mọi người đừng tin\"\n",
    "- Chỉ có **duy nhất 1 người** nói thật \n",
    "- Chỉ có **duy nhất 1 người** làm sập server \n",
    "\n",
    "Các bạn hãy hoàn thành hàm ```liar()``` trả về một danh sách chứa 6 công thức logic vị từ ứng với 6 thông tin đã cho để tìm ra người đã nói dối trong quá trình điều tra nhé!"
   ]
  },
  {
   "cell_type": "code",
   "execution_count": 17,
   "metadata": {
    "deletable": false,
    "nbgrader": {
     "cell_type": "code",
     "checksum": "b3561f704eab2e11ffbe7591bcbff241",
     "grade": false,
     "grade_id": "TODO_3",
     "locked": false,
     "schema_version": 3,
     "solution": true,
     "task": false
    }
   },
   "outputs": [],
   "source": [
    "# Problem 3: Liar puzzle\n",
    "\n",
    "# Facts:\n",
    "# 0. John: \"It wasn't me!\"\n",
    "# 1. Susan: \"It was Nicole!\"\n",
    "# 2. Mark: \"No, it was Susan!\"\n",
    "# 3. Nicole: \"Susan's a liar.\"\n",
    "# 4. Exactly one person is telling the truth.\n",
    "# 5. Exactly one person crashed the server.\n",
    "# Query: Who did it?\n",
    "\n",
    "# This function returns a list of 6 formulas corresponding to each of the\n",
    "# above facts. Be sure your formulas are exactly in the order specified. \n",
    "\n",
    "\n",
    "# Hint: For fact 4 & 5, you might want to use the Equals predicate, defined as:\n",
    "# def Equals(x, y): return Atom('Equals', x, y)\n",
    "# This predicate is used to assert that two objects are the same.\n",
    "# In particular, Equals(x,x) = True and Equals(x,y) = False iff x is not equal to y. \n",
    "# It can also be solved in other ways, without the Equals predicate!\n",
    "    \n",
    "def liar() -> Tuple[List[Formula], Formula]:\n",
    "    def TellTruth(x): return Atom('TellTruth', x)\n",
    "    def CrashedServer(x): return Atom('CrashedServer', x)\n",
    "    john = Constant('john')\n",
    "    susan = Constant('susan')\n",
    "    nicole = Constant('nicole')\n",
    "    mark = Constant('mark')\n",
    "    formulas = []\n",
    "    # We provide the formula for fact 0 here.\n",
    "    formulas.append(Equiv(TellTruth(john), Not(CrashedServer(john))))\n",
    "    \n",
    "    # You should add 5 formulas, one for each of facts 1-5.\n",
    "    # YOUR CODE HERE\n",
    "    formulas.append(Equiv(TellTruth(susan), CrashedServer(nicole)))\n",
    "    formulas.append(Equiv(TellTruth(mark), CrashedServer(susan)))\n",
    "    formulas.append(Equiv(TellTruth(nicole), Not(TellTruth(susan))))\n",
    "    fact_4 = Exists('$x', And(TellTruth('$x'), Forall('$y', Equiv(Not(Equals('$x', '$y')), Not(TellTruth('$y'))))))\n",
    "    formulas.append(fact_4)\n",
    "    fact_5 = Exists('$x', And(CrashedServer('$x'), Forall('$y', Equiv(Not(Equals('$x', '$y')), Not(CrashedServer('$y'))))))\n",
    "    formulas.append(fact_5)\n",
    "\n",
    "    query = CrashedServer('$x')\n",
    "    return (formulas, query)"
   ]
  },
  {
   "cell_type": "code",
   "execution_count": 18,
   "metadata": {
    "deletable": false,
    "editable": false,
    "nbgrader": {
     "cell_type": "code",
     "checksum": "557f64fc35db6ab75db33121253c6e7d",
     "grade": true,
     "grade_id": "GRADE_3_len",
     "locked": true,
     "points": 0.25,
     "schema_version": 3,
     "solution": false,
     "task": false
    }
   },
   "outputs": [],
   "source": [
    "# test case\n",
    "predForms, predQuery = liar()\n",
    "assert len(predForms) == 6"
   ]
  },
  {
   "cell_type": "code",
   "execution_count": 19,
   "metadata": {
    "deletable": false,
    "editable": false,
    "nbgrader": {
     "cell_type": "code",
     "checksum": "81025d8ba444d5fe5b1f4cfb604fd034",
     "grade": false,
     "grade_id": "GRADE_3_0",
     "locked": true,
     "schema_version": 3,
     "solution": false,
     "task": false
    }
   },
   "outputs": [
    {
     "name": "stdout",
     "output_type": "stream",
     "text": [
      "You matched the 2 models\n",
      "Example model: {'TellTruth(john)'}\n"
     ]
    }
   ],
   "source": [
    "# test case\n",
    "predForms, predQuery = liar()\n",
    "formula_id = 0\n",
    "assert checkFormula('3a-' + str(formula_id), predForms[formula_id]) == True"
   ]
  },
  {
   "cell_type": "code",
   "execution_count": 20,
   "metadata": {
    "deletable": false,
    "editable": false,
    "nbgrader": {
     "cell_type": "code",
     "checksum": "d3e76dfc652e2fb0f43cf137eee0f6e2",
     "grade": true,
     "grade_id": "GRADE_3_1",
     "locked": true,
     "points": 0.25,
     "schema_version": 3,
     "solution": false,
     "task": false
    }
   },
   "outputs": [
    {
     "name": "stdout",
     "output_type": "stream",
     "text": [
      "You matched the 2 models\n",
      "Example model: set()\n"
     ]
    }
   ],
   "source": [
    "# test case\n",
    "predForms, predQuery = liar()\n",
    "formula_id = 1\n",
    "assert checkFormula('3a-' + str(formula_id), predForms[formula_id]) == True"
   ]
  },
  {
   "cell_type": "code",
   "execution_count": 21,
   "metadata": {
    "deletable": false,
    "editable": false,
    "nbgrader": {
     "cell_type": "code",
     "checksum": "3a26820737ec66d1f4be47cadaf0c17a",
     "grade": true,
     "grade_id": "GRADE_3_2",
     "locked": true,
     "points": 0.25,
     "schema_version": 3,
     "solution": false,
     "task": false
    }
   },
   "outputs": [
    {
     "name": "stdout",
     "output_type": "stream",
     "text": [
      "You matched the 2 models\n",
      "Example model: {'CrashedServer(susan)', 'TellTruth(mark)'}\n"
     ]
    }
   ],
   "source": [
    "# test case\n",
    "predForms, predQuery = liar()\n",
    "formula_id = 2\n",
    "assert checkFormula('3a-' + str(formula_id), predForms[formula_id]) == True"
   ]
  },
  {
   "cell_type": "code",
   "execution_count": 22,
   "metadata": {
    "deletable": false,
    "editable": false,
    "nbgrader": {
     "cell_type": "code",
     "checksum": "ccfa4b85ba7cc952f29b5149afde7b57",
     "grade": true,
     "grade_id": "GRADE_3_3",
     "locked": true,
     "points": 0.25,
     "schema_version": 3,
     "solution": false,
     "task": false
    }
   },
   "outputs": [
    {
     "name": "stdout",
     "output_type": "stream",
     "text": [
      "You matched the 2 models\n",
      "Example model: {'TellTruth(nicole)'}\n"
     ]
    }
   ],
   "source": [
    "# test case\n",
    "predForms, predQuery = liar()\n",
    "formula_id = 3\n",
    "assert checkFormula('3a-' + str(formula_id), predForms[formula_id]) == True"
   ]
  },
  {
   "cell_type": "code",
   "execution_count": 23,
   "metadata": {
    "deletable": false,
    "editable": false,
    "nbgrader": {
     "cell_type": "code",
     "checksum": "5c62e4a42d9a21a9dbfd7490c4494d52",
     "grade": true,
     "grade_id": "GRADE_3_4",
     "locked": true,
     "points": 0.5,
     "schema_version": 3,
     "solution": false,
     "task": false
    }
   },
   "outputs": [
    {
     "name": "stdout",
     "output_type": "stream",
     "text": [
      "You matched the 4 models\n",
      "Example model: {'TellTruth(susan)'}\n"
     ]
    }
   ],
   "source": [
    "# test case\n",
    "predForms, predQuery = liar()\n",
    "formula_id = 4\n",
    "assert checkFormula('3a-' + str(formula_id), predForms[formula_id]) == True"
   ]
  },
  {
   "cell_type": "code",
   "execution_count": 24,
   "metadata": {
    "deletable": false,
    "editable": false,
    "nbgrader": {
     "cell_type": "code",
     "checksum": "76d61f4ba9ba6f2b3aaa6d15dfad1b0d",
     "grade": true,
     "grade_id": "GRADE_3_5",
     "locked": true,
     "points": 0.5,
     "schema_version": 3,
     "solution": false,
     "task": false
    }
   },
   "outputs": [
    {
     "name": "stdout",
     "output_type": "stream",
     "text": [
      "You matched the 4 models\n",
      "Example model: {'CrashedServer(nicole)'}\n"
     ]
    }
   ],
   "source": [
    "# test case\n",
    "predForms, predQuery = liar()\n",
    "formula_id = 5\n",
    "assert checkFormula('3a-' + str(formula_id), predForms[formula_id]) == True"
   ]
  },
  {
   "cell_type": "code",
   "execution_count": 25,
   "metadata": {
    "deletable": false,
    "editable": false,
    "nbgrader": {
     "cell_type": "code",
     "checksum": "1b55fc3527dc27fb73144bb85e545310",
     "grade": true,
     "grade_id": "GRADE_3_ALL",
     "locked": true,
     "points": 0.25,
     "schema_version": 3,
     "solution": false,
     "task": false
    }
   },
   "outputs": [
    {
     "name": "stdout",
     "output_type": "stream",
     "text": [
      "You matched the 1 models\n",
      "Example model: {'TellTruth(nicole)', 'CrashedServer(john)'}\n"
     ]
    }
   ],
   "source": [
    "# test case\n",
    "predForms, predQuery = liar()\n",
    "assert checkFormula('3a-all', AndList(predForms)) == True"
   ]
  },
  {
   "cell_type": "markdown",
   "metadata": {},
   "source": [
    "Hãy chạy cell dưới đây để xem bạn đã giải được bài toán đặt ra chưa nhé :) "
   ]
  },
  {
   "cell_type": "code",
   "execution_count": 26,
   "metadata": {
    "deletable": false,
    "editable": false,
    "nbgrader": {
     "cell_type": "code",
     "checksum": "15f15717437f3fa617968d333978a007",
     "grade": false,
     "grade_id": "3_RUN_SOLUTION",
     "locked": true,
     "schema_version": 3,
     "solution": false,
     "task": false
    }
   },
   "outputs": [
    {
     "name": "stdout",
     "output_type": "stream",
     "text": [
      "Yes: ['john']\n",
      "Maybe: []\n",
      "No: ['susan', 'mark', 'nicole']\n"
     ]
    }
   ],
   "source": [
    "# Run this cell to solve the puzzle and find out who was the liar!\n",
    "try:\n",
    "    predForms, predQuery = liar()\n",
    "    kb = createModelCheckingKB()\n",
    "\n",
    "    filename = os.path.join('models', '3a-all.pklz')\n",
    "    objects, targetModels = pickle.load(gzip.open(filename))\n",
    "    for obj in objects:\n",
    "        kb.tell(Atom('Object', obj))\n",
    "\n",
    "    for predForm in predForms:\n",
    "        response = kb.tell(predForm)\n",
    "\n",
    "    response = kb.ask(predQuery)\n",
    "    showKBResponse(response)\n",
    "except:\n",
    "    print('You failed!')"
   ]
  },
  {
   "cell_type": "markdown",
   "metadata": {},
   "source": [
    "## Câu 4: Hợp giải trên logic mệnh đề (5đ)\n",
    "\n",
    "**Phần này các bạn tự thiết kế và code bằng các script python, không viết vào notebook này.**"
   ]
  },
  {
   "cell_type": "markdown",
   "metadata": {
    "deletable": false,
    "editable": false,
    "nbgrader": {
     "cell_type": "markdown",
     "checksum": "d6d947c497e61b220d35a892ef031008",
     "grade": false,
     "grade_id": "PS4",
     "locked": true,
     "schema_version": 3,
     "solution": false,
     "task": false
    }
   },
   "source": [
    "Cho cơ sở tri thức **(KB)** và một câu $\\alpha$, cả hai đều được biểu diễn bằng logic mệnh đề và được chuẩn hóa về dạng hội chuẩn CNF. Xác định KB entails $\\alpha$ (KB $\\vDash \\alpha$) bằng hợp giải.\n",
    "\n",
    "Gợi ý tham khảo: Sách Artificial Intelligence: A Modern Approach, Third Edition, Chương 7, Hình 7.12, hàm PL-RESOLUTION\n",
    "\n",
    "- Báo cáo ít nhất 5 kịch bản kiểm thử để thể hiện chứơng trình chạy hợp lệ (và do đó kịch bản không nên quá đơn giản). \n",
    "- Đánh giá ngắn gọn về  ưu điểm và khuyết điểm của giải thuật hợp giải trên logic mệnh đề, cũng như đề xuất giải pháp để khắc phục vấn dề.\n",
    "\n",
    "**a. Đặc tả dữ liệu đầu vào và đầu ra**\n",
    "\n",
    "- **Dữ liệu đầu vào**: **KB** và $\\alpha$ theo dạng chuẩn CNF được lưu trong tập tin **input.txt**. Tập tin có định dạng quy ước như sau:\n",
    "    - Dòng đầu tiên chứa câu $\\alpha$\n",
    "    - Dòng thứ hai chứa số nguyên N – số mệnh đề có trong KB\n",
    "    - N dòng tiếp theo biểu diễn các mệnh đề trong KB, mỗi mệnh đề trên một dòng\n",
    "\n",
    "Literal dương được biểu diễn bằng ký tự đơn viết hoa (A-Z). Literal âm là literal dương có dấu trừ (‘-‘) ngay trước ký tự\n",
    "\n",
    "Từ khóa OR nối các literal nối với nhau. Có thể có một hay nhiều khoảng trắng giữa các literal và từ khóa\n",
    "\n",
    "- **Dữ liệu đầu ra**: Tập hợp mệnh đề được phát sinh trong quá trình hợp giải và câu kết luận được lưu trong tập tin **output.txt**. Tập tin có định dạng quy ước như sau:\n",
    "    - Dòng đầu tiên chứa số nguyên M1 – số mệnh đề được phát sinh trong vòng lặp đầu tiên. M1 dòng tiếp theo biểu diễn các mệnh đề được phát sinh trong vòng lặp đầu tiên (kể cả mệnh đề rỗng), mỗi mệnh đề trên một dòng. Mệnh đề rỗng được biểu diễn bằng chuỗi “{}”\n",
    "    - Các vòng lặp tiếp theo (lần lượt có $M_2$, $M_3$,…, $M_n$ mệnh đề) được biểu diễn tương tự như trên\n",
    "    - Dòng cuối cùng trình bày câu kết luận, tức là trả lời câu hỏi “KB entails $\\alpha$?”. In YES nếu KB entails $\\alpha$. Ngược lại, in NO.\n",
    "    - Bỏ qua các mệnh đề trùng (xuất hiện trong cùng vòng lặp hay, KB ban đầu hay những vòng lặp trước đó).\n",
    "    \n",
    "    \n",
    "- Hàm main phải thực hiện những thao tác cơ bản như sau:\n",
    "    - Đọc dữ liệu đầu vào và lưu trong cấu trúc dữ liệu thích hợp\n",
    "    - Gọi hàm PL-Resolution để thực thi giải thuật hợp giải\n",
    "    - Ghi dữ liệu đầu ra vào tập tin đầu ra theo định dạng hợp lệ\n",
    "\n",
    "\n",
    "- Lưu ý ngữ nghĩa của giá trị trả về true và false trong hàm PL-RESOLUTION. Đừng quên rằng khi hợp giải thì ta cần phủ định của câu $\\alpha$.\n",
    "\n",
    "- <font color='red'>Các literal trong cùng mệnh đề (đối với cả dữ liệu đầu vào và đầu ra) được xếp theo thứ tự chữ cái </font>\n",
    "- <font color='red'>Kiểm tra điều kiện suy dẫn ở cuối mỗi vòng lặp, tức là khi đã phát sinh hết câu mới từ KB hiện hành, chứ không kiểm tra sau mỗi lần phát sinh một câu </font>\n",
    "- <font color='red'>Các mệnh đề dạng $A \\vee B \\vee -B$ có chân trị $True$ vì tương đương với $A \\vee True$. Những mệnh đề như thế này vô ích cho việc suy dẫn và do đó có thể bỏ đi </font>\n",
    "\n",
    "Dữ liệu đầu vào được giả sử hợp lệ, các bạn không cần kiểm tra điều này."
   ]
  },
  {
   "cell_type": "markdown",
   "metadata": {
    "deletable": false,
    "editable": false,
    "nbgrader": {
     "cell_type": "markdown",
     "checksum": "2a1433bd71adb92c6f85ce19651d52b8",
     "grade": false,
     "grade_id": "PS4_input",
     "locked": true,
     "schema_version": 3,
     "solution": false,
     "task": false
    }
   },
   "source": [
    "Ví dụ với KB và câu $\\alpha$ trong tập tin **input.txt**\n",
    "\n",
    "| Input.txt | Output.txt | Ghi chú |\n",
    "| --- | --- | --- |\n",
    "| -A | 3 |  |\n",
    "| 4 | -A | (-A OR B) hợp giải với (-B)|\n",
    "| -A OR B | B | (-A OR B) hợp giải với (negative of -A) |\n",
    "| B OR -C | -C | (-C OR B) hợp giải với (-B) |\n",
    "| A OR -B OR C | 4 |  |\n",
    "| -B | -B OR C | (A OR C OR -B) hợp giải với (-A) |\n",
    "|  | A OR C | (A OR C OR -B) hợp giải với (B) |\n",
    "|  | A OR -B| (A OR C OR -B) hợp giải với (-C) |\n",
    "|  | {}| (-B) hợp giải với (B) |\n",
    "|  | **YES** | KB entails $\\alpha$ vì tồn tại mệnh đề rỗng trong KB |\n",
    "\n",
    "\n",
    "Một ví dụ khác với cùng KB nhưng khác câu $\\alpha$\n",
    "\n",
    "| Input.txt | Output.txt | Ghi chú |\n",
    "| --- | --- | --- |\n",
    "| A | 2 | KB KHÔNG entail $\\alpha$ vì không phát sinh được mệnh đề mới và không tìm thấy mệnh đề rỗng|\n",
    "| 4 | -C |  |\n",
    "| -A OR B | -B OR C |  |\n",
    "| -C OR B | 2 |  |\n",
    "| A OR C OR -B | A OR -B |  |\n",
    "| -B | -A OR C |  |\n",
    "|  | 1 |  |\n",
    "|  | A OR -C |  |\n",
    "|  | **0** |  |\n",
    "|  | NO |  |\n",
    "\n",
    "\n",
    "\n",
    "\n",
    "\n"
   ]
  },
  {
   "cell_type": "markdown",
   "metadata": {
    "deletable": false,
    "editable": false,
    "nbgrader": {
     "cell_type": "markdown",
     "checksum": "5c1df22dc7f3822ece65c86fca30af9b",
     "grade": false,
     "grade_id": "GRADE_PS4",
     "locked": true,
     "schema_version": 3,
     "solution": false,
     "task": false
    }
   },
   "source": [
    "**b. Tiêu chí đánh giá**\n",
    "\n",
    "| **STT** | **Đặc tả tiêu chí** | **Điểm** |\n",
    "| --- | --- | --- |\n",
    "| 1 | Đọc dữ liệu đầu vào và lưu trong cấu trúc dữ liệu phù hợp | 0.5 |\n",
    "| 2 | Cài đặt giải thuật hợp giải trên logic mệnh đề  | 1 |\n",
    "| 3 | Các bước suy diễn phát sinh đủ mệnh đề và kết luận đúng | 2.5 |\n",
    "| 4 | Tuân thủ mô tả định dạng của đề bài | 0.5 |\n",
    "| 5 | Báo cáo test case và đánh giá | 0.5 |"
   ]
  }
 ],
 "metadata": {
  "kernelspec": {
   "display_name": "Python 3 (ipykernel)",
   "language": "python",
   "name": "python3"
  },
  "language_info": {
   "codemirror_mode": {
    "name": "ipython",
    "version": 3
   },
   "file_extension": ".py",
   "mimetype": "text/x-python",
   "name": "python",
   "nbconvert_exporter": "python",
   "pygments_lexer": "ipython3",
   "version": "3.10.4"
  }
 },
 "nbformat": 4,
 "nbformat_minor": 5
}
